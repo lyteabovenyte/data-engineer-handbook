{
 "cells": [
  {
   "cell_type": "code",
   "execution_count": 1,
   "id": "22b842be-6a82-4127-b937-ead4103a92e8",
   "metadata": {
    "ExecuteTime": {
     "end_time": "2024-12-03T00:51:57.586586Z",
     "start_time": "2024-12-03T00:51:52.247015Z"
    }
   },
   "outputs": [
    {
     "data": {
      "text/html": [
       "\n",
       "            <div>\n",
       "                <p><b>SparkSession - in-memory</b></p>\n",
       "                \n",
       "        <div>\n",
       "            <p><b>SparkContext</b></p>\n",
       "\n",
       "            <p><a href=\"http://1fe4f741e3fb:4043\">Spark UI</a></p>\n",
       "\n",
       "            <dl>\n",
       "              <dt>Version</dt>\n",
       "                <dd><code>v3.5.1</code></dd>\n",
       "              <dt>Master</dt>\n",
       "                <dd><code>local[*]</code></dd>\n",
       "              <dt>AppName</dt>\n",
       "                <dd><code>PySparkShell</code></dd>\n",
       "            </dl>\n",
       "        </div>\n",
       "        \n",
       "            </div>\n",
       "        "
      ],
      "text/plain": [
       "<pyspark.sql.session.SparkSession at 0xffff8f46ea00>"
      ]
     },
     "execution_count": 1,
     "metadata": {},
     "output_type": "execute_result"
    }
   ],
   "source": [
    "spark"
   ]
  },
  {
   "cell_type": "code",
   "execution_count": 2,
   "id": "6d809a4922872fbc",
   "metadata": {
    "ExecuteTime": {
     "end_time": "2024-12-03T00:53:41.809311Z",
     "start_time": "2024-12-03T00:53:41.789618Z"
    }
   },
   "outputs": [
    {
     "ename": "SyntaxError",
     "evalue": "invalid syntax (412855678.py, line 3)",
     "output_type": "error",
     "traceback": [
      "\u001b[0;36m  Cell \u001b[0;32mIn[2], line 3\u001b[0;36m\u001b[0m\n\u001b[0;31m    val sparkSession = SparkSession.builder.appName(\"Juptyer\").getOrCreate()\u001b[0m\n\u001b[0m        ^\u001b[0m\n\u001b[0;31mSyntaxError\u001b[0m\u001b[0;31m:\u001b[0m invalid syntax\n"
     ]
    }
   ],
   "source": [
    "import org.apache.spark.sql.SparkSession \n",
    "\n",
    "val sparkSession = SparkSession.builder.appName(\"Juptyer\").getOrCreate()\n",
    "\n",
    "// TODO Illustrate how this fails if you change from Option[String] to String for referrer\n",
    "case class Event (\n",
    "    // Option is a way to handle NULL more gracefully\n",
    "    user_id: Option[Integer],\n",
    "    device_id: Option[Integer],\n",
    "    referrer: Option[String],\n",
    "    host: String,\n",
    "    url: String,\n",
    "    event_time: String\n",
    ")\n",
    "\n",
    "\n",
    "dummyData = List(\n",
    "        Event(user_id=1, device_id=2, referrer=\"linkedin\", host=\"eczachly.com\", url=\"/signup\", event_time=\"2023-01-01\"),\n",
    "        Event(user_id=3, device_id=7, referrer=\"twitter\", host=\"eczachly.com\", url=\"/signup\", event_time=\"2023-01-01\")\n",
    "    )\n",
    "\n",
    "//TODO Illustrate how this fails if you change from Option[Long] to Long\n",
    "case class Device (\n",
    "    device_id: Integer,\n",
    "    browser_type: String,\n",
    "    os_type: String,\n",
    "    device_type: String\n",
    ")\n",
    "\n",
    "case class EventWithDeviceInfo (\n",
    "   user_id: Integer,\n",
    "    device_id: Integer,\n",
    "    browser_type: String,\n",
    "    os_type: String,\n",
    "    device_type: String,\n",
    "    referrer: String,\n",
    "    host: String,\n",
    "    url: String,\n",
    "    event_time: String\n",
    ")\n",
    "\n",
    "// When should you use each type?\n",
    "import sparkSession.implicits._\n",
    "\n",
    "// Applying this case class before hand is very powerful, enforces Nullability/non-nullability at runtime!\n",
    "val events: Dataset[Event] = sparkSession.read.option(\"header\", \"true\")\n",
    "                        .option(\"inferSchema\", \"true\")\n",
    "                        .csv(\"/home/iceberg/data/events.csv\")\n",
    "                        .as[Event]\n",
    "\n",
    "val devices: Dataset[Device] = sparkSession.read.option(\"header\", \"true\")\n",
    "                        .option(\"inferSchema\", \"true\")\n",
    "                        .csv(\"/home/iceberg/data/devices.csv\")\n",
    "                        .as[Device]\n",
    "\n",
    "devices.createOrReplaceTempView(\"devices\")\n",
    "events.createOrReplaceTempView(\"events\")\n",
    "\n",
    "// For simple transformations, you can see that these approaches are very similar. Dataset is winning slightly because of the quality enforcement\n",
    "val filteredViaDataset = events.filter(event => event.user_id.isDefined && event.device_id.isDefined)\n",
    "val filteredViaDataFrame = events.toDF().where($\"user_id\".isNotNull && $\"device_id\".isNotNull)\n",
    "val filteredViaSparkSql = sparkSession.sql(\"SELECT * FROM events WHERE user_id IS NOT NULL AND device_id IS NOT NULL\")\n",
    "\n",
    "\n",
    "def toUpperCase(s: String) {\n",
    "    return s.toUpperCase()\n",
    "}\n",
    "\n",
    "// This will fail if user_id is None\n",
    "val combinedViaDatasets = filteredViaDataset\n",
    "    .joinWith(devices, events(\"device_id\") === devices(\"device_id\"), \"inner\")\n",
    "    .map{ case (event: Event, device: Device) => EventWithDeviceInfo(\n",
    "                  user_id=event.user_id.get,\n",
    "                  device_id=device.device_id,\n",
    "                  browser_type=device.browser_type,\n",
    "                  os_type=device.os_type,\n",
    "                  device_type=device.device_type,\n",
    "                  referrer=event.referrer,\n",
    "                  host=event.host,\n",
    "                  url=event.url,\n",
    "                  event_time=event.event_time\n",
    "              ) }\n",
    "    .map( case (row: EventWithDeviceInfo) => {\n",
    "        row.browser_type = toUpperCase(row.browser_type)\n",
    "        return row\n",
    "    })\n",
    "\n",
    "\n",
    "// DataFrames give up some of the intellisense because you no longer have static typing\n",
    "val combinedViaDataFrames = filteredViaDataFrame.as(\"e\")\n",
    "            //Make sure to use triple equals when using data frames\n",
    "            .join(devices.as(\"d\"), $\"e.device_id\" === $\"d.device_id\", \"inner\")\n",
    "            .select(\n",
    "              $\"e.user_id\",\n",
    "              $\"d.device_id\",\n",
    "              $\"d.browser_type\",\n",
    "              $\"d.os_type\",\n",
    "              $\"d.device_type\",\n",
    "              $\"e.referrer\",\n",
    "              $\"e.host\",\n",
    "              $\"e.url\",\n",
    "              $\"e.event_time\"\n",
    "            )\n",
    "\n",
    "//Creating temp views is a good strategy if you're leveraging SparkSQL\n",
    "filteredViaSparkSql.createOrReplaceTempView(\"filtered_events\")\n",
    "val combinedViaSparkSQL = spark.sql(f\"\"\"\n",
    "    SELECT \n",
    "        fe.user_id,\n",
    "        d.device_id,\n",
    "        d.browser_type,\n",
    "        d.os_type,\n",
    "        d.device_type,\n",
    "        fe. referrer,\n",
    "        fe.host,\n",
    "        fe.url,\n",
    "        fe.event_time\n",
    "    FROM filtered_events fe \n",
    "    JOIN devices d ON fe.device_id = d.device_id\n",
    "\"\"\")\n",
    "\n",
    "combinedViaDatasets.take(5)\n"
   ]
  },
  {
   "cell_type": "code",
   "execution_count": null,
   "id": "535042129c7efe80",
   "metadata": {},
   "outputs": [],
   "source": []
  },
  {
   "cell_type": "code",
   "execution_count": null,
   "id": "203ac70d-b0e5-474b-8c82-b1bae2624d51",
   "metadata": {},
   "outputs": [],
   "source": []
  }
 ],
 "metadata": {
  "kernelspec": {
   "display_name": "Python 3 (ipykernel)",
   "language": "python",
   "name": "python3"
  },
  "language_info": {
   "codemirror_mode": {
    "name": "ipython",
    "version": 3
   },
   "file_extension": ".py",
   "mimetype": "text/x-python",
   "name": "python",
   "nbconvert_exporter": "python",
   "pygments_lexer": "ipython3",
   "version": "3.9.18"
  }
 },
 "nbformat": 4,
 "nbformat_minor": 5
}
