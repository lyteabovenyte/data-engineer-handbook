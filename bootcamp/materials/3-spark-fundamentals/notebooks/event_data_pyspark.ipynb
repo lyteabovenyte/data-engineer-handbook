{
 "cells": [
  {
   "cell_type": "code",
   "id": "81cca085-dba2-42eb-a13b-fa64b6e86583",
   "metadata": {
    "ExecuteTime": {
     "end_time": "2024-12-03T00:30:14.799585Z",
     "start_time": "2024-12-03T00:30:10.467062Z"
    }
   },
   "source": [
    "from pyspark.sql import SparkSession\n",
    "from pyspark.sql.functions import expr, col\n",
    "\n",
    "# Create a SparkSession\n",
    "spark = SparkSession.builder.appName(\"Jupyter\").getOrCreate()\n",
    "\n",
    "# Read the events CSV file and create a new column 'event_date'\n",
    "events = spark.read.option(\"header\", \"true\").csv(\"/home/iceberg/data/events.csv\").withColumn(\"event_date\", expr(\"DATE_TRUNC('day', event_time)\"))\n",
    "\n",
    "# Read the devices CSV file\n",
    "devices = spark.read.option(\"header\", \"true\").csv(\"/home/iceberg/data/devices.csv\")\n",
    "\n",
    "# Join the events and devices DataFrames\n",
    "joined_df = events.join(devices, on=\"device_id\", how=\"left\")\n",
    "\n",
    "# Rename columns using select and cast 'event_time' correctly\n",
    "df = joined_df.select(\n",
    "    \"url\",\n",
    "    \"referrer\",\n",
    "    col(\"browser_type\").alias(\"browser_family\"),\n",
    "    col(\"os_type\").alias(\"os_family\"),\n",
    "    col(\"device_type\").alias(\"device_family\"),\n",
    "    \"host\",\n",
    "    \"event_time\",\n",
    "    \"event_date\"\n",
    ")\n",
    "\n",
    "# Show the result\n",
    "df.show()"
   ],
   "outputs": [
    {
     "name": "stderr",
     "output_type": "stream",
     "text": [
      "24/12/03 00:30:10 WARN SparkSession: Using an existing Spark session; only runtime SQL configurations will take effect.\n"
     ]
    },
    {
     "name": "stdout",
     "output_type": "stream",
     "text": [
      "+----------+--------+--------------+---------+-------------+--------------------+--------------------+-------------------+\n",
      "|       url|referrer|browser_family|os_family|device_family|                host|          event_time|         event_date|\n",
      "+----------+--------+--------------+---------+-------------+--------------------+--------------------+-------------------+\n",
      "|         /|    NULL|         Other|    Other|        Other| www.zachwilson.tech|2021-03-08 17:27:...|2021-03-08 00:00:00|\n",
      "|         /|    NULL|         Other|    Other|        Other|    www.eczachly.com|2021-05-10 11:26:...|2021-05-10 00:00:00|\n",
      "|         /|    NULL|         Other|    Other|        Other|admin.zachwilson....|2021-02-17 16:19:...|2021-02-17 00:00:00|\n",
      "|         /|    NULL|         Other|    Other|        Other| www.zachwilson.tech|2021-09-24 15:53:...|2021-09-24 00:00:00|\n",
      "|         /|    NULL|         Other|    Other|        Other| www.zachwilson.tech|2021-09-26 16:03:...|2021-09-26 00:00:00|\n",
      "|         /|    NULL|         Other|    Other|        Other|admin.zachwilson....|2021-02-21 16:08:...|2021-02-21 00:00:00|\n",
      "|         /|    NULL|         Other|    Other|        Other|admin.zachwilson....|2021-09-28 17:23:...|2021-09-28 00:00:00|\n",
      "|         /|    NULL|         Other|    Other|        Other|    www.eczachly.com|2021-09-29 01:22:...|2021-09-29 00:00:00|\n",
      "|         /|    NULL|         Other|    Other|        Other|admin.zachwilson....|2021-01-24 03:15:...|2021-01-24 00:00:00|\n",
      "|         /|    NULL|         Other|    Other|        Other|    www.eczachly.com|2021-01-25 00:03:...|2021-01-25 00:00:00|\n",
      "|/.git/HEAD|    NULL|          curl|    Other|        Other|admin.zachwilson....|2021-02-22 01:36:...|2021-02-22 00:00:00|\n",
      "|         /|    NULL|          curl|    Other|        Other|    www.eczachly.com|2021-02-22 02:25:...|2021-02-22 00:00:00|\n",
      "|         /|    NULL|         Other|    Other|        Other| www.zachwilson.tech|2021-01-30 20:46:...|2021-01-30 00:00:00|\n",
      "|         /|    NULL|         Other|    Other|        Other|    www.eczachly.com|2021-02-04 23:49:...|2021-02-04 00:00:00|\n",
      "|         /|    NULL|          curl|    Other|        Other| www.zachwilson.tech|2021-02-22 02:50:...|2021-02-22 00:00:00|\n",
      "|/.git/HEAD|    NULL|          curl|    Other|        Other|admin.zachwilson....|2021-02-22 23:51:...|2021-02-22 00:00:00|\n",
      "|         /|    NULL|          curl|    Other|        Other|    www.eczachly.com|2021-02-23 00:17:...|2021-02-23 00:00:00|\n",
      "|         /|    NULL|         Other|    Other|        Other|    www.eczachly.com|2022-12-28 01:38:...|2022-12-28 00:00:00|\n",
      "|         /|    NULL|         Other|    Other|        Other| www.zachwilson.tech|2022-12-28 05:23:...|2022-12-28 00:00:00|\n",
      "|         /|    NULL|         Other|    Other|        Other| www.zachwilson.tech|2022-12-28 16:45:...|2022-12-28 00:00:00|\n",
      "+----------+--------+--------------+---------+-------------+--------------------+--------------------+-------------------+\n",
      "only showing top 20 rows\n",
      "\n"
     ]
    }
   ],
   "execution_count": 1
  },
  {
   "cell_type": "code",
   "execution_count": 7,
   "id": "dce068df-3e21-429a-8716-abdd13e9406c",
   "metadata": {},
   "outputs": [
    {
     "name": "stdout",
     "output_type": "stream",
     "text": [
      "== Physical Plan ==\n",
      "AdaptiveSparkPlan isFinalPlan=false\n",
      "+- Project [url#218, referrer#216, browser_family#271, os_family#272, device_family#273, host#217, cast(event_time#219 as timestamp) AS event_time#333, event_date#226]\n",
      "   +- Sort [event_date#226 ASC NULLS FIRST, host#217 ASC NULLS FIRST, browser_family#271 ASC NULLS FIRST], true, 0\n",
      "      +- Exchange rangepartitioning(event_date#226 ASC NULLS FIRST, host#217 ASC NULLS FIRST, browser_family#271 ASC NULLS FIRST, 200), ENSURE_REQUIREMENTS, [plan_id=264]\n",
      "         +- Exchange hashpartitioning(event_date#226, 10), REPARTITION_BY_NUM, [plan_id=262]\n",
      "            +- Project [url#218, referrer#216, browser_type#253 AS browser_family#271, os_type#254 AS os_family#272, device_type#255 AS device_family#273, host#217, event_time#219, event_date#226]\n",
      "               +- BroadcastHashJoin [device_id#215], [device_id#252], LeftOuter, BuildRight, false\n",
      "                  :- Project [device_id#215, referrer#216, host#217, url#218, event_time#219, date_trunc(day, cast(event_time#219 as timestamp), Some(Etc/UTC)) AS event_date#226]\n",
      "                  :  +- FileScan csv [device_id#215,referrer#216,host#217,url#218,event_time#219] Batched: false, DataFilters: [], Format: CSV, Location: InMemoryFileIndex(1 paths)[file:/home/iceberg/data/events.csv], PartitionFilters: [], PushedFilters: [], ReadSchema: struct<device_id:string,referrer:string,host:string,url:string,event_time:string>\n",
      "                  +- BroadcastExchange HashedRelationBroadcastMode(List(input[0, string, false]),false), [plan_id=259]\n",
      "                     +- Filter isnotnull(device_id#252)\n",
      "                        +- FileScan csv [device_id#252,browser_type#253,os_type#254,device_type#255] Batched: false, DataFilters: [isnotnull(device_id#252)], Format: CSV, Location: InMemoryFileIndex(1 paths)[file:/home/iceberg/data/devices.csv], PartitionFilters: [], PushedFilters: [IsNotNull(device_id)], ReadSchema: struct<device_id:string,browser_type:string,os_type:string,device_type:string>\n",
      "\n",
      "\n",
      "== Physical Plan ==\n",
      "AdaptiveSparkPlan isFinalPlan=false\n",
      "+- Project [url#218, referrer#216, browser_family#271, os_family#272, device_family#273, host#217, cast(event_time#219 as timestamp) AS event_time#324, event_date#226]\n",
      "   +- Sort [event_date#226 ASC NULLS FIRST, host#217 ASC NULLS FIRST, browser_family#271 ASC NULLS FIRST], false, 0\n",
      "      +- Exchange hashpartitioning(event_date#226, 10), REPARTITION_BY_NUM, [plan_id=309]\n",
      "         +- Project [url#218, referrer#216, browser_type#253 AS browser_family#271, os_type#254 AS os_family#272, device_type#255 AS device_family#273, host#217, event_time#219, event_date#226]\n",
      "            +- BroadcastHashJoin [device_id#215], [device_id#252], LeftOuter, BuildRight, false\n",
      "               :- Project [device_id#215, referrer#216, host#217, url#218, event_time#219, date_trunc(day, cast(event_time#219 as timestamp), Some(Etc/UTC)) AS event_date#226]\n",
      "               :  +- FileScan csv [device_id#215,referrer#216,host#217,url#218,event_time#219] Batched: false, DataFilters: [], Format: CSV, Location: InMemoryFileIndex(1 paths)[file:/home/iceberg/data/events.csv], PartitionFilters: [], PushedFilters: [], ReadSchema: struct<device_id:string,referrer:string,host:string,url:string,event_time:string>\n",
      "               +- BroadcastExchange HashedRelationBroadcastMode(List(input[0, string, false]),false), [plan_id=306]\n",
      "                  +- Filter isnotnull(device_id#252)\n",
      "                     +- FileScan csv [device_id#252,browser_type#253,os_type#254,device_type#255] Batched: false, DataFilters: [isnotnull(device_id#252)], Format: CSV, Location: InMemoryFileIndex(1 paths)[file:/home/iceberg/data/devices.csv], PartitionFilters: [], PushedFilters: [IsNotNull(device_id)], ReadSchema: struct<device_id:string,browser_type:string,os_type:string,device_type:string>\n",
      "\n",
      "\n"
     ]
    }
   ],
   "source": [
    "sorted = df.repartition(10, col(\"event_date\")) \\\n",
    "        .sortWithinPartitions(col(\"event_date\"), col(\"host\"), col(\"browser_family\")) \\\n",
    "        .withColumn(\"event_time\", col(\"event_time\").cast(\"timestamp\")) \\\n",
    "\n",
    "sortedTwo = df.repartition(10, col(\"event_date\")) \\\n",
    "        .sort(col(\"event_date\"), col(\"host\"), col(\"browser_family\")) \\\n",
    "        .withColumn(\"event_time\", col(\"event_time\").cast(\"timestamp\")) \\\n",
    "\n",
    "sortedTwo.explain()\n",
    "sorted.explain()"
   ]
  },
  {
   "cell_type": "code",
   "execution_count": 8,
   "id": "d800dca7-2737-4192-b5c0-c1806c105e15",
   "metadata": {},
   "outputs": [
    {
     "data": {
      "text/html": [
       "<table>\n",
       "    <thead>\n",
       "        <tr>\n",
       "        </tr>\n",
       "    </thead>\n",
       "    <tbody>\n",
       "    </tbody>\n",
       "</table>"
      ],
      "text/plain": [
       "++\n",
       "||\n",
       "++\n",
       "++"
      ]
     },
     "execution_count": 8,
     "metadata": {},
     "output_type": "execute_result"
    }
   ],
   "source": [
    "%%sql\n",
    "\n",
    "CREATE DATABASE IF NOT EXISTS bootcamp"
   ]
  },
  {
   "cell_type": "code",
   "execution_count": 9,
   "id": "e83cd813-d5c0-4d67-8285-849b882b8bfa",
   "metadata": {},
   "outputs": [
    {
     "data": {
      "text/html": [
       "<table>\n",
       "    <thead>\n",
       "        <tr>\n",
       "        </tr>\n",
       "    </thead>\n",
       "    <tbody>\n",
       "    </tbody>\n",
       "</table>"
      ],
      "text/plain": [
       "++\n",
       "||\n",
       "++\n",
       "++"
      ]
     },
     "execution_count": 9,
     "metadata": {},
     "output_type": "execute_result"
    }
   ],
   "source": [
    "%%sql\n",
    "\n",
    "DROP TABLE IF EXISTS bootcamp.events"
   ]
  },
  {
   "cell_type": "code",
   "execution_count": 12,
   "id": "d1b197a9-1b63-4130-acbe-01418eede0e5",
   "metadata": {
    "scrolled": true
   },
   "outputs": [
    {
     "data": {
      "text/html": [
       "<table>\n",
       "    <thead>\n",
       "        <tr>\n",
       "        </tr>\n",
       "    </thead>\n",
       "    <tbody>\n",
       "    </tbody>\n",
       "</table>"
      ],
      "text/plain": [
       "++\n",
       "||\n",
       "++\n",
       "++"
      ]
     },
     "execution_count": 12,
     "metadata": {},
     "output_type": "execute_result"
    }
   ],
   "source": [
    "%%sql\n",
    "\n",
    "CREATE TABLE IF NOT EXISTS bootcamp.events (\n",
    "    url STRING,\n",
    "    referrer STRING,\n",
    "    browser_family STRING,\n",
    "    os_family STRING,\n",
    "    device_family STRING,\n",
    "    host STRING,\n",
    "    event_time TIMESTAMP,\n",
    "    event_date DATE\n",
    ")\n",
    "USING iceberg\n",
    "PARTITIONED BY (event_date);\n"
   ]
  },
  {
   "cell_type": "code",
   "execution_count": 19,
   "id": "c40b143f-295e-4875-bd7f-12409312b800",
   "metadata": {
    "scrolled": true
   },
   "outputs": [
    {
     "data": {
      "text/html": [
       "<table>\n",
       "    <thead>\n",
       "        <tr>\n",
       "        </tr>\n",
       "    </thead>\n",
       "    <tbody>\n",
       "    </tbody>\n",
       "</table>"
      ],
      "text/plain": [
       "++\n",
       "||\n",
       "++\n",
       "++"
      ]
     },
     "execution_count": 19,
     "metadata": {},
     "output_type": "execute_result"
    }
   ],
   "source": [
    "%%sql\n",
    "\n",
    "CREATE TABLE IF NOT EXISTS bootcamp.events_sorted (\n",
    "    url STRING,\n",
    "    referrer STRING,\n",
    "    browser_family STRING,\n",
    "    os_family STRING,\n",
    "    device_family STRING,\n",
    "    host STRING,\n",
    "    event_time TIMESTAMP,\n",
    "    event_date DATE\n",
    ")\n",
    "USING iceberg\n",
    "PARTITIONED BY (event_date);"
   ]
  },
  {
   "cell_type": "code",
   "execution_count": 17,
   "id": "00c86e79-a911-464c-ad58-acc92859dcc6",
   "metadata": {
    "scrolled": true
   },
   "outputs": [
    {
     "data": {
      "text/html": [
       "<table>\n",
       "    <thead>\n",
       "        <tr>\n",
       "        </tr>\n",
       "    </thead>\n",
       "    <tbody>\n",
       "    </tbody>\n",
       "</table>"
      ],
      "text/plain": [
       "++\n",
       "||\n",
       "++\n",
       "++"
      ]
     },
     "execution_count": 17,
     "metadata": {},
     "output_type": "execute_result"
    }
   ],
   "source": [
    "%%sql\n",
    "\n",
    "CREATE TABLE IF NOT EXISTS bootcamp.events_unsorted (\n",
    "     url STRING,\n",
    "     referrer STRING,\n",
    "     browser_family STRING,\n",
    "     os_family STRING,\n",
    "     device_family STRING,\n",
    "    host STRING,\n",
    "    event_time TIMESTAMP,\n",
    "    event_date DATE\n",
    ")\n",
    "USING iceberg\n",
    "PARTITIONED BY (event_date);"
   ]
  },
  {
   "cell_type": "code",
   "execution_count": 20,
   "id": "2c1254bc-9ecf-4c86-bfd9-de81ecfbb78b",
   "metadata": {},
   "outputs": [
    {
     "name": "stderr",
     "output_type": "stream",
     "text": [
      "                                                                                \r"
     ]
    }
   ],
   "source": [
    "\n",
    "start_df = df.repartition(4, col(\"event_date\")).withColumn(\"event_time\", col(\"event_time\").cast(\"timestamp\")) \\\n",
    "    \n",
    "\n",
    "first_sort_df = start_df.sortWithinPartitions(col(\"event_date\"), col(\"browser_family\"), col(\"host\"))\n",
    "\n",
    "# sorted = df.repartition(10, col(\"event_date\")) \\\n",
    "#         .sortWithinPartitions(col(\"event_date\")) \\\n",
    "#         .withColumn(\"event_time\", col(\"event_time\").cast(\"timestamp\")) \\\n",
    "\n",
    "start_df.write.mode(\"overwrite\").saveAsTable(\"bootcamp.events_unsorted\")\n",
    "first_sort_df.write.mode(\"overwrite\").saveAsTable(\"bootcamp.events_sorted\")"
   ]
  },
  {
   "cell_type": "code",
   "execution_count": 21,
   "id": "d207a11b-b0a4-4662-bbe9-747d8f67be7d",
   "metadata": {},
   "outputs": [
    {
     "data": {
      "text/html": [
       "<table>\n",
       "    <thead>\n",
       "        <tr>\n",
       "            <th>size</th>\n",
       "            <th>num_files</th>\n",
       "            <th>sorted</th>\n",
       "        </tr>\n",
       "    </thead>\n",
       "    <tbody>\n",
       "        <tr>\n",
       "            <td>3301248</td>\n",
       "            <td>4</td>\n",
       "            <td>sorted</td>\n",
       "        </tr>\n",
       "        <tr>\n",
       "            <td>3589113</td>\n",
       "            <td>4</td>\n",
       "            <td>unsorted</td>\n",
       "        </tr>\n",
       "    </tbody>\n",
       "</table>"
      ],
      "text/plain": [
       "+---------+-----------+----------+\n",
       "|    size | num_files |   sorted |\n",
       "+---------+-----------+----------+\n",
       "| 3301248 |         4 |   sorted |\n",
       "| 3589113 |         4 | unsorted |\n",
       "+---------+-----------+----------+"
      ]
     },
     "execution_count": 21,
     "metadata": {},
     "output_type": "execute_result"
    }
   ],
   "source": [
    "%%sql\n",
    "\n",
    "SELECT SUM(file_size_in_bytes) as size, COUNT(1) as num_files, 'sorted' \n",
    "FROM demo.bootcamp.events_sorted.files\n",
    "\n",
    "UNION ALL\n",
    "SELECT SUM(file_size_in_bytes) as size, COUNT(1) as num_files, 'unsorted' \n",
    "FROM demo.bootcamp.events_unsorted.files\n",
    "\n",
    "\n",
    "\n"
   ]
  },
  {
   "cell_type": "code",
   "execution_count": 90,
   "id": "a93db4d6-ac15-4d0e-83da-77b93ad618da",
   "metadata": {},
   "outputs": [
    {
     "data": {
      "text/html": [
       "<table>\n",
       "    <tr>\n",
       "        <th>size</th>\n",
       "        <th>num_files</th>\n",
       "    </tr>\n",
       "    <tr>\n",
       "        <td>3145713</td>\n",
       "        <td>5</td>\n",
       "    </tr>\n",
       "</table>"
      ],
      "text/plain": [
       "+---------+-----------+\n",
       "|    size | num_files |\n",
       "+---------+-----------+\n",
       "| 3145713 |         5 |\n",
       "+---------+-----------+"
      ]
     },
     "execution_count": 90,
     "metadata": {},
     "output_type": "execute_result"
    }
   ],
   "source": [
    "%%sql\n",
    "SELECT SUM(file_size_in_bytes) as size, COUNT(1) as num_files FROM demo.bootcamp.events.files;"
   ]
  },
  {
   "cell_type": "code",
   "execution_count": null,
   "id": "a2eb7de4",
   "metadata": {
    "collapsed": false,
    "jupyter": {
     "outputs_hidden": false
    },
    "pycharm": {
     "name": "#%%\n"
    }
   },
   "outputs": [],
   "source": [
    "%%sql \n",
    "SELECT COUNT(1) FROM bootcamp.matches_bucketed.files"
   ]
  },
  {
   "cell_type": "code",
   "execution_count": 4,
   "id": "674f173d-86ca-4637-9332-37ce04a81451",
   "metadata": {},
   "outputs": [
    {
     "data": {
      "text/html": [
       "<table>\n",
       "    <tr>\n",
       "        <th>count(1)</th>\n",
       "    </tr>\n",
       "    <tr>\n",
       "        <td>3665</td>\n",
       "    </tr>\n",
       "</table>"
      ],
      "text/plain": [
       "+----------+\n",
       "| count(1) |\n",
       "+----------+\n",
       "|     3665 |\n",
       "+----------+"
      ]
     },
     "execution_count": 4,
     "metadata": {},
     "output_type": "execute_result"
    }
   ],
   "source": []
  },
  {
   "cell_type": "code",
   "execution_count": null,
   "id": "591ba0b7-2e6f-420a-960d-95e5734b0166",
   "metadata": {},
   "outputs": [],
   "source": []
  }
 ],
 "metadata": {
  "kernelspec": {
   "display_name": "Python 3 (ipykernel)",
   "language": "python",
   "name": "python3"
  },
  "language_info": {
   "codemirror_mode": {
    "name": "ipython",
    "version": 3
   },
   "file_extension": ".py",
   "mimetype": "text/x-python",
   "name": "python",
   "nbconvert_exporter": "python",
   "pygments_lexer": "ipython3",
   "version": "3.9.18"
  }
 },
 "nbformat": 4,
 "nbformat_minor": 5
}
